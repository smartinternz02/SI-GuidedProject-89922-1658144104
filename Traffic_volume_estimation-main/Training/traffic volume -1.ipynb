{
 "cells": [
  {
   "cell_type": "code",
   "execution_count": 1,
   "metadata": {},
   "outputs": [],
   "source": [
    "# importing the necessary libraries\n",
    "import pandas as pd\n",
    "import numpy as np\n",
    "import seaborn as sns\n",
    "import sklearn as sk"
   ]
  },
  {
   "cell_type": "code",
   "execution_count": 2,
   "metadata": {},
   "outputs": [],
   "source": [
    "# importing the data\n",
    "data = pd.read_csv(r\"C:\\Users\\ARE VINAY KUMAR\\OneDrive\\Documents\\Traffic_volume_estimation-main\\Dataset\\traffic volume.csv\")"
   ]
  },
  {
   "cell_type": "code",
   "execution_count": 3,
   "metadata": {
    "scrolled": false
   },
   "outputs": [
    {
     "data": {
      "text/html": [
       "<div>\n",
       "<style scoped>\n",
       "    .dataframe tbody tr th:only-of-type {\n",
       "        vertical-align: middle;\n",
       "    }\n",
       "\n",
       "    .dataframe tbody tr th {\n",
       "        vertical-align: top;\n",
       "    }\n",
       "\n",
       "    .dataframe thead th {\n",
       "        text-align: right;\n",
       "    }\n",
       "</style>\n",
       "<table border=\"1\" class=\"dataframe\">\n",
       "  <thead>\n",
       "    <tr style=\"text-align: right;\">\n",
       "      <th></th>\n",
       "      <th>holiday</th>\n",
       "      <th>temp</th>\n",
       "      <th>rain</th>\n",
       "      <th>snow</th>\n",
       "      <th>weather</th>\n",
       "      <th>date</th>\n",
       "      <th>Time</th>\n",
       "      <th>traffic_volume</th>\n",
       "    </tr>\n",
       "  </thead>\n",
       "  <tbody>\n",
       "    <tr>\n",
       "      <th>0</th>\n",
       "      <td>None</td>\n",
       "      <td>288.28</td>\n",
       "      <td>0.0</td>\n",
       "      <td>0.0</td>\n",
       "      <td>Clouds</td>\n",
       "      <td>02-10-2012</td>\n",
       "      <td>09:00:00</td>\n",
       "      <td>5545</td>\n",
       "    </tr>\n",
       "    <tr>\n",
       "      <th>1</th>\n",
       "      <td>None</td>\n",
       "      <td>289.36</td>\n",
       "      <td>0.0</td>\n",
       "      <td>0.0</td>\n",
       "      <td>Clouds</td>\n",
       "      <td>02-10-2012</td>\n",
       "      <td>10:00:00</td>\n",
       "      <td>4516</td>\n",
       "    </tr>\n",
       "    <tr>\n",
       "      <th>2</th>\n",
       "      <td>None</td>\n",
       "      <td>289.58</td>\n",
       "      <td>0.0</td>\n",
       "      <td>0.0</td>\n",
       "      <td>Clouds</td>\n",
       "      <td>02-10-2012</td>\n",
       "      <td>11:00:00</td>\n",
       "      <td>4767</td>\n",
       "    </tr>\n",
       "    <tr>\n",
       "      <th>3</th>\n",
       "      <td>None</td>\n",
       "      <td>290.13</td>\n",
       "      <td>0.0</td>\n",
       "      <td>0.0</td>\n",
       "      <td>Clouds</td>\n",
       "      <td>02-10-2012</td>\n",
       "      <td>12:00:00</td>\n",
       "      <td>5026</td>\n",
       "    </tr>\n",
       "    <tr>\n",
       "      <th>4</th>\n",
       "      <td>None</td>\n",
       "      <td>291.14</td>\n",
       "      <td>0.0</td>\n",
       "      <td>0.0</td>\n",
       "      <td>Clouds</td>\n",
       "      <td>02-10-2012</td>\n",
       "      <td>13:00:00</td>\n",
       "      <td>4918</td>\n",
       "    </tr>\n",
       "  </tbody>\n",
       "</table>\n",
       "</div>"
      ],
      "text/plain": [
       "  holiday    temp  rain  snow weather        date      Time  traffic_volume\n",
       "0    None  288.28   0.0   0.0  Clouds  02-10-2012  09:00:00            5545\n",
       "1    None  289.36   0.0   0.0  Clouds  02-10-2012  10:00:00            4516\n",
       "2    None  289.58   0.0   0.0  Clouds  02-10-2012  11:00:00            4767\n",
       "3    None  290.13   0.0   0.0  Clouds  02-10-2012  12:00:00            5026\n",
       "4    None  291.14   0.0   0.0  Clouds  02-10-2012  13:00:00            4918"
      ]
     },
     "execution_count": 3,
     "metadata": {},
     "output_type": "execute_result"
    }
   ],
   "source": [
    "# displaying first 5 columns of the data\n",
    "data.head()"
   ]
  },
  {
   "cell_type": "code",
   "execution_count": 4,
   "metadata": {},
   "outputs": [
    {
     "data": {
      "text/plain": [
       "(48204, 8)"
      ]
     },
     "execution_count": 4,
     "metadata": {},
     "output_type": "execute_result"
    }
   ],
   "source": [
    "# displaying the dimensions of the data (rows and columns)\n",
    "data.shape"
   ]
  },
  {
   "cell_type": "code",
   "execution_count": 5,
   "metadata": {},
   "outputs": [
    {
     "name": "stdout",
     "output_type": "stream",
     "text": [
      "<class 'pandas.core.frame.DataFrame'>\n",
      "RangeIndex: 48204 entries, 0 to 48203\n",
      "Data columns (total 8 columns):\n",
      " #   Column          Non-Null Count  Dtype  \n",
      "---  ------          --------------  -----  \n",
      " 0   holiday         48204 non-null  object \n",
      " 1   temp            48151 non-null  float64\n",
      " 2   rain            48202 non-null  float64\n",
      " 3   snow            48192 non-null  float64\n",
      " 4   weather         48155 non-null  object \n",
      " 5   date            48204 non-null  object \n",
      " 6   Time            48204 non-null  object \n",
      " 7   traffic_volume  48204 non-null  int64  \n",
      "dtypes: float64(3), int64(1), object(4)\n",
      "memory usage: 2.9+ MB\n"
     ]
    }
   ],
   "source": [
    "# used to display the basic information of the data\n",
    "data.info()"
   ]
  },
  {
   "cell_type": "code",
   "execution_count": 6,
   "metadata": {},
   "outputs": [
    {
     "data": {
      "text/html": [
       "<div>\n",
       "<style scoped>\n",
       "    .dataframe tbody tr th:only-of-type {\n",
       "        vertical-align: middle;\n",
       "    }\n",
       "\n",
       "    .dataframe tbody tr th {\n",
       "        vertical-align: top;\n",
       "    }\n",
       "\n",
       "    .dataframe thead th {\n",
       "        text-align: right;\n",
       "    }\n",
       "</style>\n",
       "<table border=\"1\" class=\"dataframe\">\n",
       "  <thead>\n",
       "    <tr style=\"text-align: right;\">\n",
       "      <th></th>\n",
       "      <th>temp</th>\n",
       "      <th>rain</th>\n",
       "      <th>snow</th>\n",
       "      <th>traffic_volume</th>\n",
       "    </tr>\n",
       "  </thead>\n",
       "  <tbody>\n",
       "    <tr>\n",
       "      <th>count</th>\n",
       "      <td>48151.000000</td>\n",
       "      <td>48202.000000</td>\n",
       "      <td>48192.000000</td>\n",
       "      <td>48204.000000</td>\n",
       "    </tr>\n",
       "    <tr>\n",
       "      <th>mean</th>\n",
       "      <td>281.205351</td>\n",
       "      <td>0.334278</td>\n",
       "      <td>0.000222</td>\n",
       "      <td>3259.818355</td>\n",
       "    </tr>\n",
       "    <tr>\n",
       "      <th>std</th>\n",
       "      <td>13.343675</td>\n",
       "      <td>44.790062</td>\n",
       "      <td>0.008169</td>\n",
       "      <td>1986.860670</td>\n",
       "    </tr>\n",
       "    <tr>\n",
       "      <th>min</th>\n",
       "      <td>0.000000</td>\n",
       "      <td>0.000000</td>\n",
       "      <td>0.000000</td>\n",
       "      <td>0.000000</td>\n",
       "    </tr>\n",
       "    <tr>\n",
       "      <th>25%</th>\n",
       "      <td>272.160000</td>\n",
       "      <td>0.000000</td>\n",
       "      <td>0.000000</td>\n",
       "      <td>1193.000000</td>\n",
       "    </tr>\n",
       "    <tr>\n",
       "      <th>50%</th>\n",
       "      <td>282.460000</td>\n",
       "      <td>0.000000</td>\n",
       "      <td>0.000000</td>\n",
       "      <td>3380.000000</td>\n",
       "    </tr>\n",
       "    <tr>\n",
       "      <th>75%</th>\n",
       "      <td>291.810000</td>\n",
       "      <td>0.000000</td>\n",
       "      <td>0.000000</td>\n",
       "      <td>4933.000000</td>\n",
       "    </tr>\n",
       "    <tr>\n",
       "      <th>max</th>\n",
       "      <td>310.070000</td>\n",
       "      <td>9831.300000</td>\n",
       "      <td>0.510000</td>\n",
       "      <td>7280.000000</td>\n",
       "    </tr>\n",
       "  </tbody>\n",
       "</table>\n",
       "</div>"
      ],
      "text/plain": [
       "               temp          rain          snow  traffic_volume\n",
       "count  48151.000000  48202.000000  48192.000000    48204.000000\n",
       "mean     281.205351      0.334278      0.000222     3259.818355\n",
       "std       13.343675     44.790062      0.008169     1986.860670\n",
       "min        0.000000      0.000000      0.000000        0.000000\n",
       "25%      272.160000      0.000000      0.000000     1193.000000\n",
       "50%      282.460000      0.000000      0.000000     3380.000000\n",
       "75%      291.810000      0.000000      0.000000     4933.000000\n",
       "max      310.070000   9831.300000      0.510000     7280.000000"
      ]
     },
     "execution_count": 6,
     "metadata": {},
     "output_type": "execute_result"
    }
   ],
   "source": [
    "# used to understand the descriptive analysis of the data\n",
    "data.describe()"
   ]
  },
  {
   "cell_type": "code",
   "execution_count": 7,
   "metadata": {
    "scrolled": true
   },
   "outputs": [
    {
     "data": {
      "text/plain": [
       "holiday            0\n",
       "temp              53\n",
       "rain               2\n",
       "snow              12\n",
       "weather           49\n",
       "date               0\n",
       "Time               0\n",
       "traffic_volume     0\n",
       "dtype: int64"
      ]
     },
     "execution_count": 7,
     "metadata": {},
     "output_type": "execute_result"
    }
   ],
   "source": [
    "# used to display the null values of the data\n",
    "data.isnull().sum()"
   ]
  },
  {
   "cell_type": "code",
   "execution_count": 8,
   "metadata": {},
   "outputs": [
    {
     "data": {
      "text/plain": [
       "holiday            object\n",
       "temp              float64\n",
       "rain              float64\n",
       "snow              float64\n",
       "weather            object\n",
       "date               object\n",
       "Time               object\n",
       "traffic_volume      int64\n",
       "dtype: object"
      ]
     },
     "execution_count": 8,
     "metadata": {},
     "output_type": "execute_result"
    }
   ],
   "source": [
    "# used to display the data type of each column\n",
    "data.dtypes"
   ]
  },
  {
   "cell_type": "markdown",
   "metadata": {},
   "source": [
    "# Dealing with missing values of the data"
   ]
  },
  {
   "cell_type": "code",
   "execution_count": 9,
   "metadata": {},
   "outputs": [],
   "source": [
    "from collections import Counter"
   ]
  },
  {
   "cell_type": "code",
   "execution_count": 10,
   "metadata": {
    "scrolled": true
   },
   "outputs": [
    {
     "name": "stdout",
     "output_type": "stream",
     "text": [
      "Counter({0.0: 44735, 0.25: 948, 0.51: 256, 1.02: 123, 0.3: 121, 0.76: 109, 0.38: 99, 1.78: 91, 1.52: 69, 0.64: 55, 1.27: 50, 0.6: 32, 2.79: 29, 0.44: 26, 0.89: 25, 2.54: 23, 0.28: 23, 0.42: 21, 1.4: 21, 0.34: 20, 2.16: 19, 2.29: 19, 2.03: 19, 1.8: 16, 1.09: 16, 3.05: 15, 0.32: 15, 1.2: 15, 0.9: 15, 0.98: 14, 0.68: 13, 0.81: 13, 4.57: 13, 7.11: 12, 0.85: 12, 0.7: 11, 2.1: 11, 0.55: 11, 5.59: 10, 1.86: 10, 8.4: 10, 1.15: 10, 0.47: 9, 5.08: 9, 1.21: 9, 0.43: 9, 6.1: 9, 5.84: 8, 1.66: 8, 0.79: 8, 0.4: 8, 1.14: 8, 2.2: 8, 1.85: 8, 2.41: 8, 3.3: 8, 1.41: 7, 6.6: 7, 0.35: 7, 1.91: 7, 0.52: 7, 1.3: 7, 0.8: 7, 0.66: 7, 2.67: 7, 1.33: 7, 1.1: 7, 4.06: 7, 0.57: 6, 0.29: 6, 0.36: 6, 1.0: 6, 1.44: 6, 8.64: 6, 1.35: 6, 5.97: 6, 0.56: 6, 0.91: 6, 0.54: 6, 0.94: 6, 0.96: 6, 2.86: 6, 0.78: 6, 2.22: 6, 6.35: 6, 4.89: 6, 0.93: 6, 3.13: 6, 0.63: 6, 2.62: 6, 1.6: 6, 4.74: 6, 2.76: 6, 3.45: 6, 0.69: 5, 3.18: 5, 0.61: 5, 5.42: 5, 1.39: 5, 0.53: 5, 0.48: 5, 0.59: 5, 0.71: 5, 0.27: 5, 2.85: 5, 0.65: 5, 1.5: 5, 3.41: 5, 4.29: 5, 1.72: 5, 2.61: 5, 1.69: 5, 4.15: 5, 9.62: 5, 0.84: 4, 6.94: 4, 4.32: 4, 1.68: 4, 0.41: 4, 1.06: 4, 2.05: 4, 0.88: 4, 4.45: 4, 5.46: 4, 2.7: 4, 4.21: 4, 9.9: 4, 0.86: 4, 5.92: 4, 10.67: 4, 13.46: 4, 3.94: 4, 20.07: 4, 3.27: 4, 4.0: 4, 2.92: 4, 10.6: 4, 1.34: 3, 1.84: 3, 1.7: 3, 5.74: 3, 4.98: 3, 3.65: 3, 12.19: 3, 7.54: 3, 16.38: 3, 1.65: 3, 3.81: 3, 7.37: 3, 10.54: 3, 19.9: 3, 25.32: 3, 21.42: 3, 9.53: 3, 13.21: 3, 2.37: 3, 3.98: 3, 4.27: 3, 1.13: 3, 0.97: 3, 14.73: 3, 0.95: 3, 1.07: 3, 1.11: 3, 1.24: 3, 3.19: 3, 4.76: 3, 5.27: 3, 11.58: 3, 7.02: 3, 3.08: 3, 1.98: 3, 1.04: 3, 1.55: 3, 6.89: 3, 3.9: 3, 5.02: 3, 4.09: 3, 1.19: 3, 4.8: 3, 4.18: 3, 1.49: 3, 9.4: 3, 3.2: 3, 7.97: 3, 23.8: 3, 11.78: 3, 7.51: 3, 2.15: 3, 9.91: 3, 27.57: 3, 7.29: 3, 13.64: 3, 7.25: 3, 2.91: 3, 20.24: 3, 13.32: 3, 4.38: 3, 3.54: 3, 6.47: 3, 1.56: 3, 8.04: 3, 25.46: 3, 3.74: 3, 2.49: 3, 5.04: 3, 5.36: 3, 2.38: 3, 3.28: 3, 4.04: 3, 3.86: 3, 5.69: 3, 6.01: 3, 5.21: 3, 4.7: 3, 10.92: 3, 7.62: 3, 11.23: 3, 9.42: 3, 10.16: 3, 9.15: 3, 3.75: 3, 1.82: 3, 5.62: 3, 3.1: 3, 2.6: 3, 1.45: 3, 2.26: 3, 2.48: 3, 5.12: 3, 1.01: 3, 4.79: 3, 5.19: 3, 3.39: 2, 0.46: 2, 9.14: 2, 3.56: 2, 16.0: 2, 1.96: 2, 4.39: 2, 28.7: 2, 0.83: 2, 0.72: 2, 0.31: 2, 0.26: 2, 0.58: 2, 1.08: 2, 1.71: 2, 2.21: 2, 0.62: 2, 1.12: 2, 1.46: 2, 1.32: 2, 0.87: 2, 7.39: 2, 1.83: 2, 0.5: 2, 0.77: 2, 2.98: 2, 4.43: 2, 6.45: 2, 1.76: 2, 7.77: 2, 8.89: 2, 15.41: 2, 5.25: 2, 8.02: 2, 12.7: 2, 1.03: 2, 5.86: 2, 7.87: 2, 1.67: 2, 3.09: 2, 1.51: 2, 7.72: 2, 4.64: 2, 2.06: 2, 2.4: 2, 2.96: 2, 6.48: 2, 5.89: 2, 2.39: 2, 2.88: 2, 3.4: 2, 1.29: 1, 44.45: 1, 55.63: 1, 18.8: 1, 0.37: 1, 0.67: 1, 1.87: 1, 0.33: 1, 2.13: 1, 1.63: 1, 1.38: 1, 2.35: 1, 2.11: 1, 2.53: 1, 0.92: 1, 1.22: 1, 1.05: 1, 2.31: 1, 3.17: 1, 2.14: 1, 2.34: 1, 1.61: 1, 5.58: 1, 5.11: 1, 5.1: 1, 4.53: 1, 1.25: 1, 4.5: 1, 3.47: 1, 0.45: 1, 2.18: 1, 2.84: 1, 2.93: 1, 2.87: 1, 2.8: 1, 0.74: 1, 1.28: 1, 1.47: 1, 4.66: 1, 2.08: 1, 3.12: 1, 1.53: 1, 3.25: 1, 1.9: 1, 12.45: 1, 1.37: 1, 2.78: 1, 1.31: 1, 3.44: 1, 2.75: 1, 2.19: 1, 1.59: 1, 5.73: 1, 5.93: 1, 3.91: 1, 18.03: 1, 1.88: 1, 3.01: 1, 2.12: 1, 0.73: 1, 11.59: 1, 2.33: 1, 5.52: 1, 1.93: 1, 2.68: 1, 10.05: 1, 7.7: 1, 4.05: 1, 3.8: 1, 9831.3: 1, 16.51: 1, 12.83: 1, 18.42: 1, 5.06: 1, 1.95: 1, 9.0: 1, 8.86: 1, 5.99: 1, 8.0: 1, 31.75: 1, 5.41: 1, 2.83: 1, 15.75: 1, 3.64: 1, 7.13: 1, 1.16: 1, 7.05: 1, 2.73: 1, nan: 1, nan: 1})\n",
      "Counter({0.0: 48129, 0.05: 14, 0.06: 12, 0.51: 6, 0.25: 6, 0.13: 6, 0.1: 6, 0.32: 5, 0.17: 3, 0.44: 2, 0.08: 2, nan: 1, nan: 1, nan: 1, nan: 1, nan: 1, nan: 1, nan: 1, nan: 1, nan: 1, nan: 1, nan: 1, 0.21: 1, nan: 1})\n"
     ]
    }
   ],
   "source": [
    "print(Counter(data['rain']))\n",
    "print(Counter(data['snow']))"
   ]
  },
  {
   "cell_type": "code",
   "execution_count": 11,
   "metadata": {},
   "outputs": [],
   "source": [
    "data['temp'].fillna(data['temp'].mean(),inplace=True)\n",
    "data['rain'].fillna(data['rain'].mean(),inplace=True)\n",
    "data['snow'].fillna(data['snow'].mean(),inplace=True)"
   ]
  },
  {
   "cell_type": "code",
   "execution_count": 12,
   "metadata": {
    "scrolled": true
   },
   "outputs": [
    {
     "name": "stdout",
     "output_type": "stream",
     "text": [
      "Counter({'Clouds': 15144, 'Clear': 13383, 'Mist': 5942, 'Rain': 5665, 'Snow': 2875, 'Drizzle': 1818, 'Haze': 1359, 'Thunderstorm': 1033, 'Fog': 912, nan: 49, 'Smoke': 20, 'Squall': 4})\n"
     ]
    }
   ],
   "source": [
    "print(Counter(data['weather']))"
   ]
  },
  {
   "cell_type": "code",
   "execution_count": 13,
   "metadata": {},
   "outputs": [],
   "source": [
    "data['weather'].fillna('Clouds',inplace=True)"
   ]
  },
  {
   "cell_type": "code",
   "execution_count": 14,
   "metadata": {},
   "outputs": [
    {
     "data": {
      "text/plain": [
       "holiday           0\n",
       "temp              0\n",
       "rain              0\n",
       "snow              0\n",
       "weather           0\n",
       "date              0\n",
       "Time              0\n",
       "traffic_volume    0\n",
       "dtype: int64"
      ]
     },
     "execution_count": 14,
     "metadata": {},
     "output_type": "execute_result"
    }
   ],
   "source": [
    "data.isnull().sum()"
   ]
  },
  {
   "cell_type": "markdown",
   "metadata": {},
   "source": [
    "# encoding the data"
   ]
  },
  {
   "cell_type": "code",
   "execution_count": 15,
   "metadata": {},
   "outputs": [],
   "source": [
    "from sklearn.preprocessing import LabelEncoder"
   ]
  },
  {
   "cell_type": "code",
   "execution_count": 16,
   "metadata": {},
   "outputs": [],
   "source": [
    "le = LabelEncoder()"
   ]
  },
  {
   "cell_type": "code",
   "execution_count": 17,
   "metadata": {},
   "outputs": [],
   "source": [
    "data['weather'] = le.fit_transform(data['weather'])"
   ]
  },
  {
   "cell_type": "code",
   "execution_count": 18,
   "metadata": {},
   "outputs": [],
   "source": [
    "data['holiday'] = le.fit_transform(data['holiday'])"
   ]
  },
  {
   "cell_type": "code",
   "execution_count": 19,
   "metadata": {},
   "outputs": [
    {
     "data": {
      "text/html": [
       "<div>\n",
       "<style scoped>\n",
       "    .dataframe tbody tr th:only-of-type {\n",
       "        vertical-align: middle;\n",
       "    }\n",
       "\n",
       "    .dataframe tbody tr th {\n",
       "        vertical-align: top;\n",
       "    }\n",
       "\n",
       "    .dataframe thead th {\n",
       "        text-align: right;\n",
       "    }\n",
       "</style>\n",
       "<table border=\"1\" class=\"dataframe\">\n",
       "  <thead>\n",
       "    <tr style=\"text-align: right;\">\n",
       "      <th></th>\n",
       "      <th>holiday</th>\n",
       "      <th>temp</th>\n",
       "      <th>rain</th>\n",
       "      <th>snow</th>\n",
       "      <th>weather</th>\n",
       "      <th>date</th>\n",
       "      <th>Time</th>\n",
       "      <th>traffic_volume</th>\n",
       "    </tr>\n",
       "  </thead>\n",
       "  <tbody>\n",
       "    <tr>\n",
       "      <th>0</th>\n",
       "      <td>7</td>\n",
       "      <td>288.28</td>\n",
       "      <td>0.0</td>\n",
       "      <td>0.0</td>\n",
       "      <td>1</td>\n",
       "      <td>02-10-2012</td>\n",
       "      <td>09:00:00</td>\n",
       "      <td>5545</td>\n",
       "    </tr>\n",
       "    <tr>\n",
       "      <th>1</th>\n",
       "      <td>7</td>\n",
       "      <td>289.36</td>\n",
       "      <td>0.0</td>\n",
       "      <td>0.0</td>\n",
       "      <td>1</td>\n",
       "      <td>02-10-2012</td>\n",
       "      <td>10:00:00</td>\n",
       "      <td>4516</td>\n",
       "    </tr>\n",
       "    <tr>\n",
       "      <th>2</th>\n",
       "      <td>7</td>\n",
       "      <td>289.58</td>\n",
       "      <td>0.0</td>\n",
       "      <td>0.0</td>\n",
       "      <td>1</td>\n",
       "      <td>02-10-2012</td>\n",
       "      <td>11:00:00</td>\n",
       "      <td>4767</td>\n",
       "    </tr>\n",
       "    <tr>\n",
       "      <th>3</th>\n",
       "      <td>7</td>\n",
       "      <td>290.13</td>\n",
       "      <td>0.0</td>\n",
       "      <td>0.0</td>\n",
       "      <td>1</td>\n",
       "      <td>02-10-2012</td>\n",
       "      <td>12:00:00</td>\n",
       "      <td>5026</td>\n",
       "    </tr>\n",
       "    <tr>\n",
       "      <th>4</th>\n",
       "      <td>7</td>\n",
       "      <td>291.14</td>\n",
       "      <td>0.0</td>\n",
       "      <td>0.0</td>\n",
       "      <td>1</td>\n",
       "      <td>02-10-2012</td>\n",
       "      <td>13:00:00</td>\n",
       "      <td>4918</td>\n",
       "    </tr>\n",
       "  </tbody>\n",
       "</table>\n",
       "</div>"
      ],
      "text/plain": [
       "   holiday    temp  rain  snow  weather        date      Time  traffic_volume\n",
       "0        7  288.28   0.0   0.0        1  02-10-2012  09:00:00            5545\n",
       "1        7  289.36   0.0   0.0        1  02-10-2012  10:00:00            4516\n",
       "2        7  289.58   0.0   0.0        1  02-10-2012  11:00:00            4767\n",
       "3        7  290.13   0.0   0.0        1  02-10-2012  12:00:00            5026\n",
       "4        7  291.14   0.0   0.0        1  02-10-2012  13:00:00            4918"
      ]
     },
     "execution_count": 19,
     "metadata": {},
     "output_type": "execute_result"
    }
   ],
   "source": [
    "data.head()"
   ]
  },
  {
   "cell_type": "code",
   "execution_count": 20,
   "metadata": {},
   "outputs": [],
   "source": [
    "# spliiting the date column into year,month,day\n",
    "data[[\"day\", \"month\", \"year\"]] = data[\"date\"].str.split(\"-\", expand = True)"
   ]
  },
  {
   "cell_type": "code",
   "execution_count": 21,
   "metadata": {},
   "outputs": [],
   "source": [
    "# spliiting the date column into year,month,day\n",
    "data[[\"hours\", \"minutes\", \"seconds\"]] = data[\"Time\"].str.split(\":\", expand = True)"
   ]
  },
  {
   "cell_type": "code",
   "execution_count": 22,
   "metadata": {},
   "outputs": [],
   "source": [
    "data.drop(columns=['date','Time'],axis=1,inplace=True)"
   ]
  },
  {
   "cell_type": "code",
   "execution_count": 23,
   "metadata": {},
   "outputs": [
    {
     "data": {
      "text/html": [
       "<div>\n",
       "<style scoped>\n",
       "    .dataframe tbody tr th:only-of-type {\n",
       "        vertical-align: middle;\n",
       "    }\n",
       "\n",
       "    .dataframe tbody tr th {\n",
       "        vertical-align: top;\n",
       "    }\n",
       "\n",
       "    .dataframe thead th {\n",
       "        text-align: right;\n",
       "    }\n",
       "</style>\n",
       "<table border=\"1\" class=\"dataframe\">\n",
       "  <thead>\n",
       "    <tr style=\"text-align: right;\">\n",
       "      <th></th>\n",
       "      <th>holiday</th>\n",
       "      <th>temp</th>\n",
       "      <th>rain</th>\n",
       "      <th>snow</th>\n",
       "      <th>weather</th>\n",
       "      <th>traffic_volume</th>\n",
       "      <th>day</th>\n",
       "      <th>month</th>\n",
       "      <th>year</th>\n",
       "      <th>hours</th>\n",
       "      <th>minutes</th>\n",
       "      <th>seconds</th>\n",
       "    </tr>\n",
       "  </thead>\n",
       "  <tbody>\n",
       "    <tr>\n",
       "      <th>0</th>\n",
       "      <td>7</td>\n",
       "      <td>288.28</td>\n",
       "      <td>0.0</td>\n",
       "      <td>0.0</td>\n",
       "      <td>1</td>\n",
       "      <td>5545</td>\n",
       "      <td>02</td>\n",
       "      <td>10</td>\n",
       "      <td>2012</td>\n",
       "      <td>09</td>\n",
       "      <td>00</td>\n",
       "      <td>00</td>\n",
       "    </tr>\n",
       "    <tr>\n",
       "      <th>1</th>\n",
       "      <td>7</td>\n",
       "      <td>289.36</td>\n",
       "      <td>0.0</td>\n",
       "      <td>0.0</td>\n",
       "      <td>1</td>\n",
       "      <td>4516</td>\n",
       "      <td>02</td>\n",
       "      <td>10</td>\n",
       "      <td>2012</td>\n",
       "      <td>10</td>\n",
       "      <td>00</td>\n",
       "      <td>00</td>\n",
       "    </tr>\n",
       "    <tr>\n",
       "      <th>2</th>\n",
       "      <td>7</td>\n",
       "      <td>289.58</td>\n",
       "      <td>0.0</td>\n",
       "      <td>0.0</td>\n",
       "      <td>1</td>\n",
       "      <td>4767</td>\n",
       "      <td>02</td>\n",
       "      <td>10</td>\n",
       "      <td>2012</td>\n",
       "      <td>11</td>\n",
       "      <td>00</td>\n",
       "      <td>00</td>\n",
       "    </tr>\n",
       "    <tr>\n",
       "      <th>3</th>\n",
       "      <td>7</td>\n",
       "      <td>290.13</td>\n",
       "      <td>0.0</td>\n",
       "      <td>0.0</td>\n",
       "      <td>1</td>\n",
       "      <td>5026</td>\n",
       "      <td>02</td>\n",
       "      <td>10</td>\n",
       "      <td>2012</td>\n",
       "      <td>12</td>\n",
       "      <td>00</td>\n",
       "      <td>00</td>\n",
       "    </tr>\n",
       "    <tr>\n",
       "      <th>4</th>\n",
       "      <td>7</td>\n",
       "      <td>291.14</td>\n",
       "      <td>0.0</td>\n",
       "      <td>0.0</td>\n",
       "      <td>1</td>\n",
       "      <td>4918</td>\n",
       "      <td>02</td>\n",
       "      <td>10</td>\n",
       "      <td>2012</td>\n",
       "      <td>13</td>\n",
       "      <td>00</td>\n",
       "      <td>00</td>\n",
       "    </tr>\n",
       "  </tbody>\n",
       "</table>\n",
       "</div>"
      ],
      "text/plain": [
       "   holiday    temp  rain  snow  weather  traffic_volume day month  year hours  \\\n",
       "0        7  288.28   0.0   0.0        1            5545  02    10  2012    09   \n",
       "1        7  289.36   0.0   0.0        1            4516  02    10  2012    10   \n",
       "2        7  289.58   0.0   0.0        1            4767  02    10  2012    11   \n",
       "3        7  290.13   0.0   0.0        1            5026  02    10  2012    12   \n",
       "4        7  291.14   0.0   0.0        1            4918  02    10  2012    13   \n",
       "\n",
       "  minutes seconds  \n",
       "0      00      00  \n",
       "1      00      00  \n",
       "2      00      00  \n",
       "3      00      00  \n",
       "4      00      00  "
      ]
     },
     "execution_count": 23,
     "metadata": {},
     "output_type": "execute_result"
    }
   ],
   "source": [
    "data.head()"
   ]
  },
  {
   "cell_type": "markdown",
   "metadata": {},
   "source": [
    "# scaling the data"
   ]
  },
  {
   "cell_type": "code",
   "execution_count": 66,
   "metadata": {},
   "outputs": [
    {
     "data": {
      "text/plain": [
       "(48204,)"
      ]
     },
     "execution_count": 66,
     "metadata": {},
     "output_type": "execute_result"
    }
   ],
   "source": [
    "y = data['traffic_volume']\n",
    "x = data.drop(columns=['traffic_volume'],axis=1)\n",
    "x\n",
    "y\n",
    "x.shape\n",
    "y.shape"
   ]
  },
  {
   "cell_type": "code",
   "execution_count": 25,
   "metadata": {},
   "outputs": [],
   "source": [
    "names = x.columns"
   ]
  },
  {
   "cell_type": "code",
   "execution_count": 26,
   "metadata": {},
   "outputs": [],
   "source": [
    "from sklearn.preprocessing import scale"
   ]
  },
  {
   "cell_type": "code",
   "execution_count": 27,
   "metadata": {},
   "outputs": [],
   "source": [
    "x = scale(x)"
   ]
  },
  {
   "cell_type": "code",
   "execution_count": 28,
   "metadata": {
    "scrolled": true
   },
   "outputs": [],
   "source": [
    "x  = pd.DataFrame(x,columns=names)"
   ]
  },
  {
   "cell_type": "code",
   "execution_count": 29,
   "metadata": {},
   "outputs": [
    {
     "data": {
      "text/html": [
       "<div>\n",
       "<style scoped>\n",
       "    .dataframe tbody tr th:only-of-type {\n",
       "        vertical-align: middle;\n",
       "    }\n",
       "\n",
       "    .dataframe tbody tr th {\n",
       "        vertical-align: top;\n",
       "    }\n",
       "\n",
       "    .dataframe thead th {\n",
       "        text-align: right;\n",
       "    }\n",
       "</style>\n",
       "<table border=\"1\" class=\"dataframe\">\n",
       "  <thead>\n",
       "    <tr style=\"text-align: right;\">\n",
       "      <th></th>\n",
       "      <th>holiday</th>\n",
       "      <th>temp</th>\n",
       "      <th>rain</th>\n",
       "      <th>snow</th>\n",
       "      <th>weather</th>\n",
       "      <th>day</th>\n",
       "      <th>month</th>\n",
       "      <th>year</th>\n",
       "      <th>hours</th>\n",
       "      <th>minutes</th>\n",
       "      <th>seconds</th>\n",
       "    </tr>\n",
       "  </thead>\n",
       "  <tbody>\n",
       "    <tr>\n",
       "      <th>0</th>\n",
       "      <td>0.015856</td>\n",
       "      <td>0.530485</td>\n",
       "      <td>-0.007463</td>\n",
       "      <td>-0.027235</td>\n",
       "      <td>-0.566452</td>\n",
       "      <td>-1.574903</td>\n",
       "      <td>1.02758</td>\n",
       "      <td>-1.855294</td>\n",
       "      <td>-0.345548</td>\n",
       "      <td>0.0</td>\n",
       "      <td>0.0</td>\n",
       "    </tr>\n",
       "    <tr>\n",
       "      <th>1</th>\n",
       "      <td>0.015856</td>\n",
       "      <td>0.611467</td>\n",
       "      <td>-0.007463</td>\n",
       "      <td>-0.027235</td>\n",
       "      <td>-0.566452</td>\n",
       "      <td>-1.574903</td>\n",
       "      <td>1.02758</td>\n",
       "      <td>-1.855294</td>\n",
       "      <td>-0.201459</td>\n",
       "      <td>0.0</td>\n",
       "      <td>0.0</td>\n",
       "    </tr>\n",
       "    <tr>\n",
       "      <th>2</th>\n",
       "      <td>0.015856</td>\n",
       "      <td>0.627964</td>\n",
       "      <td>-0.007463</td>\n",
       "      <td>-0.027235</td>\n",
       "      <td>-0.566452</td>\n",
       "      <td>-1.574903</td>\n",
       "      <td>1.02758</td>\n",
       "      <td>-1.855294</td>\n",
       "      <td>-0.057371</td>\n",
       "      <td>0.0</td>\n",
       "      <td>0.0</td>\n",
       "    </tr>\n",
       "    <tr>\n",
       "      <th>3</th>\n",
       "      <td>0.015856</td>\n",
       "      <td>0.669205</td>\n",
       "      <td>-0.007463</td>\n",
       "      <td>-0.027235</td>\n",
       "      <td>-0.566452</td>\n",
       "      <td>-1.574903</td>\n",
       "      <td>1.02758</td>\n",
       "      <td>-1.855294</td>\n",
       "      <td>0.086718</td>\n",
       "      <td>0.0</td>\n",
       "      <td>0.0</td>\n",
       "    </tr>\n",
       "    <tr>\n",
       "      <th>4</th>\n",
       "      <td>0.015856</td>\n",
       "      <td>0.744939</td>\n",
       "      <td>-0.007463</td>\n",
       "      <td>-0.027235</td>\n",
       "      <td>-0.566452</td>\n",
       "      <td>-1.574903</td>\n",
       "      <td>1.02758</td>\n",
       "      <td>-1.855294</td>\n",
       "      <td>0.230807</td>\n",
       "      <td>0.0</td>\n",
       "      <td>0.0</td>\n",
       "    </tr>\n",
       "  </tbody>\n",
       "</table>\n",
       "</div>"
      ],
      "text/plain": [
       "    holiday      temp      rain      snow   weather       day    month  \\\n",
       "0  0.015856  0.530485 -0.007463 -0.027235 -0.566452 -1.574903  1.02758   \n",
       "1  0.015856  0.611467 -0.007463 -0.027235 -0.566452 -1.574903  1.02758   \n",
       "2  0.015856  0.627964 -0.007463 -0.027235 -0.566452 -1.574903  1.02758   \n",
       "3  0.015856  0.669205 -0.007463 -0.027235 -0.566452 -1.574903  1.02758   \n",
       "4  0.015856  0.744939 -0.007463 -0.027235 -0.566452 -1.574903  1.02758   \n",
       "\n",
       "       year     hours  minutes  seconds  \n",
       "0 -1.855294 -0.345548      0.0      0.0  \n",
       "1 -1.855294 -0.201459      0.0      0.0  \n",
       "2 -1.855294 -0.057371      0.0      0.0  \n",
       "3 -1.855294  0.086718      0.0      0.0  \n",
       "4 -1.855294  0.230807      0.0      0.0  "
      ]
     },
     "execution_count": 29,
     "metadata": {},
     "output_type": "execute_result"
    }
   ],
   "source": [
    "x.head()"
   ]
  },
  {
   "cell_type": "markdown",
   "metadata": {},
   "source": [
    "# splitting the data"
   ]
  },
  {
   "cell_type": "code",
   "execution_count": 30,
   "metadata": {},
   "outputs": [],
   "source": [
    "from sklearn.model_selection import train_test_split"
   ]
  },
  {
   "cell_type": "code",
   "execution_count": 31,
   "metadata": {},
   "outputs": [],
   "source": [
    "x_train,x_test,y_train,y_test = train_test_split(x,y,test_size=0.2,random_state=0)"
   ]
  },
  {
   "cell_type": "markdown",
   "metadata": {},
   "source": [
    "# Model building"
   ]
  },
  {
   "cell_type": "code",
   "execution_count": 32,
   "metadata": {},
   "outputs": [],
   "source": [
    "from sklearn import linear_model\n",
    "from sklearn import tree\n",
    "from sklearn import ensemble\n",
    "from sklearn import svm\n",
    "import xgboost"
   ]
  },
  {
   "cell_type": "code",
   "execution_count": 33,
   "metadata": {},
   "outputs": [],
   "source": [
    "lin_reg = linear_model.LinearRegression()\n",
    "Dtree = tree.DecisionTreeRegressor()\n",
    "Rand = ensemble.RandomForestRegressor()\n",
    "svr = svm.SVR()\n",
    "XGB = xgboost.XGBRegressor()"
   ]
  },
  {
   "cell_type": "code",
   "execution_count": 34,
   "metadata": {},
   "outputs": [
    {
     "data": {
      "text/plain": [
       "XGBRegressor(base_score=0.5, booster='gbtree', callbacks=None,\n",
       "             colsample_bylevel=1, colsample_bynode=1, colsample_bytree=1,\n",
       "             early_stopping_rounds=None, enable_categorical=False,\n",
       "             eval_metric=None, gamma=0, gpu_id=-1, grow_policy='depthwise',\n",
       "             importance_type=None, interaction_constraints='',\n",
       "             learning_rate=0.300000012, max_bin=256, max_cat_to_onehot=4,\n",
       "             max_delta_step=0, max_depth=6, max_leaves=0, min_child_weight=1,\n",
       "             missing=nan, monotone_constraints='()', n_estimators=100, n_jobs=0,\n",
       "             num_parallel_tree=1, predictor='auto', random_state=0, reg_alpha=0,\n",
       "             reg_lambda=1, ...)"
      ]
     },
     "execution_count": 34,
     "metadata": {},
     "output_type": "execute_result"
    }
   ],
   "source": [
    "lin_reg.fit(x_train,y_train)\n",
    "Dtree.fit(x_train,y_train)\n",
    "Rand.fit(x_train,y_train)\n",
    "svr.fit(x_train,y_train)\n",
    "XGB.fit(x_train,y_train)"
   ]
  },
  {
   "cell_type": "code",
   "execution_count": 35,
   "metadata": {},
   "outputs": [],
   "source": [
    "p1 = lin_reg.predict(x_train)\n",
    "p2 = Dtree.predict(x_train)\n",
    "p3 = Rand.predict(x_train)\n",
    "p4 = svr.predict(x_train)\n",
    "p5 = XGB.predict(x_train)"
   ]
  },
  {
   "cell_type": "code",
   "execution_count": 36,
   "metadata": {},
   "outputs": [],
   "source": [
    "from sklearn import metrics"
   ]
  },
  {
   "cell_type": "code",
   "execution_count": 37,
   "metadata": {},
   "outputs": [
    {
     "name": "stdout",
     "output_type": "stream",
     "text": [
      "-5.5172854236368565\n",
      "1.0\n",
      "0.9746159970235169\n",
      "-12.188104231382285\n",
      "0.8349874938269883\n"
     ]
    }
   ],
   "source": [
    "print(metrics.r2_score(p1,y_train))\n",
    "print(metrics.r2_score(p2,y_train))\n",
    "print(metrics.r2_score(p3,y_train))\n",
    "print(metrics.r2_score(p4,y_train))\n",
    "print(metrics.r2_score(p5,y_train))"
   ]
  },
  {
   "cell_type": "markdown",
   "metadata": {},
   "source": [
    "# with testing data finding the r-score"
   ]
  },
  {
   "cell_type": "code",
   "execution_count": 38,
   "metadata": {},
   "outputs": [],
   "source": [
    "p1 = lin_reg.predict(x_test)\n",
    "p2 = Dtree.predict(x_test)\n",
    "p3 = Rand.predict(x_test)\n",
    "p4 = svr.predict(x_test)\n",
    "p5 = XGB.predict(x_test)"
   ]
  },
  {
   "cell_type": "code",
   "execution_count": 39,
   "metadata": {},
   "outputs": [
    {
     "name": "stdout",
     "output_type": "stream",
     "text": [
      "-5.399396398322173\n",
      "0.69547726278349\n",
      "0.801968693017526\n",
      "-11.972215715232434\n",
      "0.7922184852381723\n"
     ]
    }
   ],
   "source": [
    "print(metrics.r2_score(p1,y_test))\n",
    "print(metrics.r2_score(p2,y_test))\n",
    "print(metrics.r2_score(p3,y_test))\n",
    "print(metrics.r2_score(p4,y_test))\n",
    "print(metrics.r2_score(p5,y_test))"
   ]
  },
  {
   "cell_type": "markdown",
   "metadata": {},
   "source": [
    "#### Randforest gives the best r-score value"
   ]
  },
  {
   "cell_type": "code",
   "execution_count": 40,
   "metadata": {},
   "outputs": [],
   "source": [
    "#RMSE values\n",
    "MSE = metrics.mean_squared_error(p3,y_test)"
   ]
  },
  {
   "cell_type": "code",
   "execution_count": 41,
   "metadata": {},
   "outputs": [
    {
     "data": {
      "text/plain": [
       "800.5568026523664"
      ]
     },
     "execution_count": 41,
     "metadata": {},
     "output_type": "execute_result"
    }
   ],
   "source": [
    "np.sqrt(MSE)"
   ]
  },
  {
   "cell_type": "markdown",
   "metadata": {},
   "source": [
    "# saving the model"
   ]
  },
  {
   "cell_type": "code",
   "execution_count": 42,
   "metadata": {},
   "outputs": [],
   "source": [
    "import pickle"
   ]
  },
  {
   "cell_type": "code",
   "execution_count": 43,
   "metadata": {},
   "outputs": [],
   "source": [
    "pickle.dump(Rand,open(\"model.pkl\",'wb'))\n",
    "pickle.dump(le,open(\"encoder.pkl\",'wb'))"
   ]
  },
  {
   "cell_type": "code",
   "execution_count": 44,
   "metadata": {},
   "outputs": [
    {
     "data": {
      "text/html": [
       "<div>\n",
       "<style scoped>\n",
       "    .dataframe tbody tr th:only-of-type {\n",
       "        vertical-align: middle;\n",
       "    }\n",
       "\n",
       "    .dataframe tbody tr th {\n",
       "        vertical-align: top;\n",
       "    }\n",
       "\n",
       "    .dataframe thead th {\n",
       "        text-align: right;\n",
       "    }\n",
       "</style>\n",
       "<table border=\"1\" class=\"dataframe\">\n",
       "  <thead>\n",
       "    <tr style=\"text-align: right;\">\n",
       "      <th></th>\n",
       "      <th>holiday</th>\n",
       "      <th>temp</th>\n",
       "      <th>rain</th>\n",
       "      <th>snow</th>\n",
       "      <th>weather</th>\n",
       "      <th>traffic_volume</th>\n",
       "      <th>day</th>\n",
       "      <th>month</th>\n",
       "      <th>year</th>\n",
       "      <th>hours</th>\n",
       "      <th>minutes</th>\n",
       "      <th>seconds</th>\n",
       "    </tr>\n",
       "  </thead>\n",
       "  <tbody>\n",
       "    <tr>\n",
       "      <th>0</th>\n",
       "      <td>7</td>\n",
       "      <td>288.28</td>\n",
       "      <td>0.0</td>\n",
       "      <td>0.0</td>\n",
       "      <td>1</td>\n",
       "      <td>5545</td>\n",
       "      <td>02</td>\n",
       "      <td>10</td>\n",
       "      <td>2012</td>\n",
       "      <td>09</td>\n",
       "      <td>00</td>\n",
       "      <td>00</td>\n",
       "    </tr>\n",
       "    <tr>\n",
       "      <th>1</th>\n",
       "      <td>7</td>\n",
       "      <td>289.36</td>\n",
       "      <td>0.0</td>\n",
       "      <td>0.0</td>\n",
       "      <td>1</td>\n",
       "      <td>4516</td>\n",
       "      <td>02</td>\n",
       "      <td>10</td>\n",
       "      <td>2012</td>\n",
       "      <td>10</td>\n",
       "      <td>00</td>\n",
       "      <td>00</td>\n",
       "    </tr>\n",
       "    <tr>\n",
       "      <th>2</th>\n",
       "      <td>7</td>\n",
       "      <td>289.58</td>\n",
       "      <td>0.0</td>\n",
       "      <td>0.0</td>\n",
       "      <td>1</td>\n",
       "      <td>4767</td>\n",
       "      <td>02</td>\n",
       "      <td>10</td>\n",
       "      <td>2012</td>\n",
       "      <td>11</td>\n",
       "      <td>00</td>\n",
       "      <td>00</td>\n",
       "    </tr>\n",
       "    <tr>\n",
       "      <th>3</th>\n",
       "      <td>7</td>\n",
       "      <td>290.13</td>\n",
       "      <td>0.0</td>\n",
       "      <td>0.0</td>\n",
       "      <td>1</td>\n",
       "      <td>5026</td>\n",
       "      <td>02</td>\n",
       "      <td>10</td>\n",
       "      <td>2012</td>\n",
       "      <td>12</td>\n",
       "      <td>00</td>\n",
       "      <td>00</td>\n",
       "    </tr>\n",
       "    <tr>\n",
       "      <th>4</th>\n",
       "      <td>7</td>\n",
       "      <td>291.14</td>\n",
       "      <td>0.0</td>\n",
       "      <td>0.0</td>\n",
       "      <td>1</td>\n",
       "      <td>4918</td>\n",
       "      <td>02</td>\n",
       "      <td>10</td>\n",
       "      <td>2012</td>\n",
       "      <td>13</td>\n",
       "      <td>00</td>\n",
       "      <td>00</td>\n",
       "    </tr>\n",
       "  </tbody>\n",
       "</table>\n",
       "</div>"
      ],
      "text/plain": [
       "   holiday    temp  rain  snow  weather  traffic_volume day month  year hours  \\\n",
       "0        7  288.28   0.0   0.0        1            5545  02    10  2012    09   \n",
       "1        7  289.36   0.0   0.0        1            4516  02    10  2012    10   \n",
       "2        7  289.58   0.0   0.0        1            4767  02    10  2012    11   \n",
       "3        7  290.13   0.0   0.0        1            5026  02    10  2012    12   \n",
       "4        7  291.14   0.0   0.0        1            4918  02    10  2012    13   \n",
       "\n",
       "  minutes seconds  \n",
       "0      00      00  \n",
       "1      00      00  \n",
       "2      00      00  \n",
       "3      00      00  \n",
       "4      00      00  "
      ]
     },
     "execution_count": 44,
     "metadata": {},
     "output_type": "execute_result"
    }
   ],
   "source": [
    "data.head()"
   ]
  },
  {
   "cell_type": "code",
   "execution_count": null,
   "metadata": {
    "scrolled": true
   },
   "outputs": [],
   "source": []
  },
  {
   "cell_type": "code",
   "execution_count": null,
   "metadata": {},
   "outputs": [],
   "source": []
  },
  {
   "cell_type": "code",
   "execution_count": null,
   "metadata": {},
   "outputs": [],
   "source": []
  },
  {
   "cell_type": "code",
   "execution_count": null,
   "metadata": {},
   "outputs": [],
   "source": []
  },
  {
   "cell_type": "code",
   "execution_count": null,
   "metadata": {},
   "outputs": [],
   "source": []
  },
  {
   "cell_type": "code",
   "execution_count": null,
   "metadata": {},
   "outputs": [],
   "source": []
  }
 ],
 "metadata": {
  "kernelspec": {
   "display_name": "Python 3 (ipykernel)",
   "language": "python",
   "name": "python3"
  },
  "language_info": {
   "codemirror_mode": {
    "name": "ipython",
    "version": 3
   },
   "file_extension": ".py",
   "mimetype": "text/x-python",
   "name": "python",
   "nbconvert_exporter": "python",
   "pygments_lexer": "ipython3",
   "version": "3.9.12"
  }
 },
 "nbformat": 4,
 "nbformat_minor": 4
}
